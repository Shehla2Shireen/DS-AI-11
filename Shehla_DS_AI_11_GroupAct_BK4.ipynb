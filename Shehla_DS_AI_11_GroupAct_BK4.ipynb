{
  "nbformat": 4,
  "nbformat_minor": 0,
  "metadata": {
    "colab": {
      "provenance": []
    },
    "kernelspec": {
      "name": "python3",
      "display_name": "Python 3"
    },
    "language_info": {
      "name": "python"
    }
  },
  "cells": [
    {
      "cell_type": "markdown",
      "source": [
        "# **Problem 1**"
      ],
      "metadata": {
        "id": "8U1R5fF8WFV7"
      }
    },
    {
      "cell_type": "markdown",
      "source": [
        "Given a list of integers, return the largest difference between any two elements, where the larger element appears after the smaller one. If no such pair exists, return 0."
      ],
      "metadata": {
        "id": "-4ipVWZHXqeY"
      }
    },
    {
      "cell_type": "code",
      "source": [
        "#\n",
        "\n",
        "def max_difference(arr):\n",
        "    max_diff = 0  # This will store the largest difference we find\n",
        "\n",
        "    for i in range(len(arr)):# 'i' is the index of the first number\n",
        "        for j in range(i + 1, len(arr)):  #'j' is the index of the second number\n",
        "            if arr[j] > arr[i]:\n",
        "                diff = arr[j] - arr[i]\n",
        "                if diff > max_diff:\n",
        "                    max_diff = diff\n",
        "\n",
        "    return max_diff\n",
        "\n",
        "\n",
        "numbers = [1, 2, 90, 10, 110]\n",
        "result = max_difference(numbers)\n",
        "print(\"Largest difference:\", result)"
      ],
      "metadata": {
        "id": "Q67jY7B2WHuv",
        "colab": {
          "base_uri": "https://localhost:8080/"
        },
        "outputId": "567d2556-d98e-43b8-a8cb-066feefacc64"
      },
      "execution_count": 1,
      "outputs": [
        {
          "output_type": "stream",
          "name": "stdout",
          "text": [
            "Largest difference: 109\n"
          ]
        }
      ]
    },
    {
      "cell_type": "markdown",
      "source": [
        "# **Problem 2**"
      ],
      "metadata": {
        "id": "vDgg72ARWDjM"
      }
    },
    {
      "cell_type": "markdown",
      "source": [
        "Given a string, return the first non-repeating character. If there are no non-repeating characters, return None."
      ],
      "metadata": {
        "id": "f535qP51XyEa"
      }
    },
    {
      "cell_type": "code",
      "source": [
        "\n",
        "def first_non_repeating_char(s):\n",
        "    for char in s:\n",
        "        if s.count(char) == 1:  # Checking if this character appears only once\n",
        "            return char\n",
        "    return None  # If no non-repeating character found\n",
        "\n",
        "print(first_non_repeating_char(\"aabcc\"))  # Output: 'b'"
      ],
      "metadata": {
        "id": "h92sZ6J2WPIN",
        "colab": {
          "base_uri": "https://localhost:8080/"
        },
        "outputId": "8f2829ed-aa0f-4696-bb20-08223e96bebf"
      },
      "execution_count": 2,
      "outputs": [
        {
          "output_type": "stream",
          "name": "stdout",
          "text": [
            "b\n"
          ]
        }
      ]
    },
    {
      "cell_type": "markdown",
      "source": [
        "# **Problem 3**"
      ],
      "metadata": {
        "id": "AVg1zKAtV_xI"
      }
    },
    {
      "cell_type": "markdown",
      "source": [
        "Given two strings, write a function to check if one is a permutation of the other. Return True if they are permutations, False otherwise."
      ],
      "metadata": {
        "id": "dCUtFad9X1Zi"
      }
    },
    {
      "cell_type": "code",
      "source": [
        "\n",
        "\n",
        "def are_permutations(s1, s2):\n",
        "    # If the lengths are different, they can't be permutations\n",
        "    if len(s1) != len(s2):\n",
        "        return False\n",
        "\n",
        "    # Sort both strings and compare\n",
        "    return sorted(s1) == sorted(s2)\n",
        "\n",
        "\n",
        "print(are_permutations(\"abc\", \"bca\"))     # True"
      ],
      "metadata": {
        "id": "0JCr9tpMWPjJ",
        "colab": {
          "base_uri": "https://localhost:8080/"
        },
        "outputId": "431ab475-2875-492c-a528-e1c7935dd8c1"
      },
      "execution_count": 3,
      "outputs": [
        {
          "output_type": "stream",
          "name": "stdout",
          "text": [
            "True\n"
          ]
        }
      ]
    },
    {
      "cell_type": "markdown",
      "source": [
        "# **Problem 4**"
      ],
      "metadata": {
        "id": "haPGJvZIV-Kh"
      }
    },
    {
      "cell_type": "markdown",
      "source": [
        "Given a list of integers, return the second largest unique number. If no second largest unique number exists, return None."
      ],
      "metadata": {
        "id": "QYLMOGMkX4d4"
      }
    },
    {
      "cell_type": "code",
      "source": [
        "\n",
        "def second_largest_unique(nums):\n",
        "    unique_nums = list(set(nums))  # removeing duplicates\n",
        "    if len(unique_nums) < 2:\n",
        "        return None  # no second largest if less than 2 unique numbers\n",
        "\n",
        "    unique_nums.sort(reverse=True)  # it will sort in descending order\n",
        "    return unique_nums[1]  # second largest is at index 1\n",
        "\n",
        "\n",
        "print(second_largest_unique([4, 5, 6, 6, 7]))     # Output: 6"
      ],
      "metadata": {
        "id": "poJwFI83WP-1",
        "colab": {
          "base_uri": "https://localhost:8080/"
        },
        "outputId": "5dc80bcc-7d21-4241-87ef-0ba90733a355"
      },
      "execution_count": 5,
      "outputs": [
        {
          "output_type": "stream",
          "name": "stdout",
          "text": [
            "6\n"
          ]
        }
      ]
    },
    {
      "cell_type": "markdown",
      "source": [
        "# **Problem 5**"
      ],
      "metadata": {
        "id": "Swn_OynoV8PA"
      }
    },
    {
      "cell_type": "code",
      "source": [
        "def count_distinct_pairs(nums, target):\n",
        "    seen = set()   #set of numbers we've already seen\n",
        "    pairs = set()  #set of unique pairs /answers\n",
        "\n",
        "    for num in nums:\n",
        "        complement = target - num   #number we need to form the target sum\n",
        "        if complement in seen:\n",
        "            pairs.add(tuple(sorted((num, complement))))  #sort to avoid duplicates\n",
        "        seen.add(num)  # mark num as seen\n",
        "\n",
        "    return len(pairs)\n",
        "\n",
        "nums = [1,2,3,4,5,6]\n",
        "target = 6\n",
        "print(count_distinct_pairs(nums, target))"
      ],
      "metadata": {
        "id": "RSSqHZVfWQhm",
        "colab": {
          "base_uri": "https://localhost:8080/"
        },
        "outputId": "18949718-f8f1-46fa-8872-a4eca9fe830f"
      },
      "execution_count": 6,
      "outputs": [
        {
          "output_type": "stream",
          "name": "stdout",
          "text": [
            "2\n"
          ]
        }
      ]
    },
    {
      "cell_type": "markdown",
      "source": [
        "# **Problem 6**"
      ],
      "metadata": {
        "id": "IApGwSGOV4Oo"
      }
    },
    {
      "cell_type": "code",
      "source": [
        "def remove_duplicates(lst):\n",
        "    seen = set()   #stores those which are seen\n",
        "    result = []\n",
        "    for num in lst:\n",
        "        if num not in seen:  #track if exists in seen, dont add to result\n",
        "            seen.add(num)\n",
        "            result.append(num)\n",
        "    return result\n",
        "\n",
        "input_list = [1, 2, 2, 3, 7, 9, 9, 4, 5, 1]\n",
        "print(remove_duplicates(input_list))\n"
      ],
      "metadata": {
        "id": "mENTu2JLWQ_m",
        "colab": {
          "base_uri": "https://localhost:8080/"
        },
        "outputId": "c6a6bd0d-ef83-45d5-a292-82ba76725abe"
      },
      "execution_count": 7,
      "outputs": [
        {
          "output_type": "stream",
          "name": "stdout",
          "text": [
            "[1, 2, 3, 7, 9, 4, 5]\n"
          ]
        }
      ]
    },
    {
      "cell_type": "markdown",
      "source": [
        "# **Problem 7**"
      ],
      "metadata": {
        "id": "VZjQHsgxU1az"
      }
    },
    {
      "cell_type": "code",
      "source": [
        "def subsets(nums):\n",
        "    result = []\n",
        "\n",
        "    def backtrack(start, path):\n",
        "        result.append(path[:])  #copy of the current subset\n",
        "        for i in range(start, len(nums)):\n",
        "            path.append(nums[i])\n",
        "            backtrack(i + 1, path)      #recurse for next elements\n",
        "            path.pop()                  #backtrack\n",
        "\n",
        "    backtrack(0, [])\n",
        "    return result\n",
        "\n",
        "\n",
        "nums = [1, 2, 3]\n",
        "print(subsets(nums))"
      ],
      "metadata": {
        "id": "5xCp1YykU9jX",
        "colab": {
          "base_uri": "https://localhost:8080/"
        },
        "outputId": "df5a4f99-a51e-415b-b735-fa97fa1a215c"
      },
      "execution_count": 8,
      "outputs": [
        {
          "output_type": "stream",
          "name": "stdout",
          "text": [
            "[[], [1], [1, 2], [1, 2, 3], [1, 3], [2], [2, 3], [3]]\n"
          ]
        }
      ]
    },
    {
      "cell_type": "markdown",
      "source": [
        "# **Problem 8**"
      ],
      "metadata": {
        "id": "JFpPanjqUxsl"
      }
    },
    {
      "cell_type": "code",
      "source": [
        "def length_of_lis(nums):\n",
        "    if not nums:  #if list is empty\n",
        "        return 0\n",
        "\n",
        "    n = len(nums)  #length storng\n",
        "    dp = [1] * n   # dp[i] will store the length of the LIS ending at index i\n",
        "\n",
        "    for i in range(1, n):\n",
        "        #compare the current element nums[i] with all previous elements\n",
        "        for j in range(i):\n",
        "            if nums[i] > nums[j]:\n",
        "                dp[i] = max(dp[i], dp[j] + 1)  #update with longest sequence\n",
        "\n",
        "    return max(dp)  #length of the longest increasing subsequence\n",
        "\n",
        "\n",
        "nums = [10, 9, 2, 5, 3, 7, 101, 18]\n",
        "print(length_of_lis(nums))"
      ],
      "metadata": {
        "id": "TNyTPkiLU8RU",
        "colab": {
          "base_uri": "https://localhost:8080/"
        },
        "outputId": "5d36f296-135d-4cd6-f2e1-191e2d82a806"
      },
      "execution_count": 9,
      "outputs": [
        {
          "output_type": "stream",
          "name": "stdout",
          "text": [
            "4\n"
          ]
        }
      ]
    },
    {
      "cell_type": "markdown",
      "source": [
        "# **Problem 9**"
      ],
      "metadata": {
        "id": "fD1rGEqwUV6Q"
      }
    },
    {
      "cell_type": "code",
      "source": [
        "def max_product(nums):\n",
        "    nums.sort() #this will sort the list by ascending order\n",
        "    return max(nums[0] * nums[1], nums[-1] * nums[-2]) #this will produce two products considering negative values. so if two values are negative, there product might be largest.\n",
        "#max will give the max of two products calculated\n",
        "i =[1, 10, -5, 1, 100,]\n",
        "\n",
        "print(max_product(i))"
      ],
      "metadata": {
        "id": "q67zqpJjUglO",
        "colab": {
          "base_uri": "https://localhost:8080/"
        },
        "outputId": "6b300b6c-cd26-42fa-f730-505ab7bfcfd5"
      },
      "execution_count": 10,
      "outputs": [
        {
          "output_type": "stream",
          "name": "stdout",
          "text": [
            "1000\n"
          ]
        }
      ]
    },
    {
      "cell_type": "markdown",
      "source": [
        "# **Problem 10**"
      ],
      "metadata": {
        "id": "61iouBH7VqRd"
      }
    },
    {
      "cell_type": "code",
      "source": [
        "def most_frequent_char(s):\n",
        "    char_counts = {} # function that loops and checks for char count\n",
        "    for char in s:\n",
        "        char_counts[char] = char_counts.get(char, 0) + 1\n",
        "\n",
        "    max_count = 0\n",
        "    most_frequent = '' #keep track of most frequent\n",
        "\n",
        "    for char, count in char_counts.items(): # this will update most frequent\n",
        "        if count > max_count:\n",
        "            max_count = count\n",
        "            most_frequent = char\n",
        "        elif count == max_count and char < most_frequent: #this will pick character that comes first alphabetically\n",
        "            most_frequent = char\n",
        "\n",
        "    return most_frequent\n",
        "\n",
        "i = \"aabbbc\"\n",
        "print(most_frequent_char(i))"
      ],
      "metadata": {
        "id": "Gz6vGEiLVuLp",
        "colab": {
          "base_uri": "https://localhost:8080/"
        },
        "outputId": "a071a9a6-2cb1-4cfd-f455-c5dc8c265ab3"
      },
      "execution_count": 11,
      "outputs": [
        {
          "output_type": "stream",
          "name": "stdout",
          "text": [
            "b\n"
          ]
        }
      ]
    },
    {
      "cell_type": "markdown",
      "source": [
        "# **Problem 11**"
      ],
      "metadata": {
        "id": "Qs597kAzVvuh"
      }
    },
    {
      "cell_type": "code",
      "source": [
        "def print_primes(n):\n",
        "\n",
        "    if n <= 1:#no prime numbers to print\n",
        "        return\n",
        "\n",
        "    primes = []\n",
        "    for num in range(2, n):#staring from 2 upto n-1\n",
        "        is_prime = True\n",
        "        for i in range(2, int(num**0.5) + 1):\n",
        "            if num % i == 0:# if this condition met then not prime\n",
        "                is_prime = False\n",
        "                break\n",
        "        if is_prime:#if condition met then append to list\n",
        "            primes.append(num)\n",
        "\n",
        "    print(*primes)\n",
        "i = 10\n",
        "print_primes(i)"
      ],
      "metadata": {
        "id": "WAXdo2tQWS7H",
        "colab": {
          "base_uri": "https://localhost:8080/"
        },
        "outputId": "004d9c43-ca74-43a7-d0d6-72d71ada93fe"
      },
      "execution_count": 12,
      "outputs": [
        {
          "output_type": "stream",
          "name": "stdout",
          "text": [
            "2 3 5 7\n"
          ]
        }
      ]
    },
    {
      "cell_type": "markdown",
      "source": [
        "# **Problem 12**"
      ],
      "metadata": {
        "id": "16UdMrDzVy1w"
      }
    },
    {
      "cell_type": "code",
      "source": [
        "def sum_numbers(*args):\n",
        "  total = 0\n",
        "  for num in args:#for every argument in input\n",
        "    total += num #add to total\n",
        "  return total\n",
        "\n",
        "i = (2,3,4)\n",
        "print(sum_numbers(*i))"
      ],
      "metadata": {
        "id": "HB9h5WZPWTZG",
        "colab": {
          "base_uri": "https://localhost:8080/"
        },
        "outputId": "b47073df-f4c9-4fff-b859-b0480c77c9c0"
      },
      "execution_count": 13,
      "outputs": [
        {
          "output_type": "stream",
          "name": "stdout",
          "text": [
            "9\n"
          ]
        }
      ]
    },
    {
      "cell_type": "markdown",
      "source": [
        "# **Problem 13**\n",
        "\n",
        "Given a dictionary of students' names and their scores, write a function that returns the name of the student with the highest score.\n",
        "\n"
      ],
      "metadata": {
        "id": "rHxxfshiRigf"
      }
    },
    {
      "cell_type": "code",
      "source": [
        "def top_student(scores):\n",
        "    \"\"\"Return the name of the student with the highest score.\"\"\"\n",
        "    return max(scores, key=scores.get) #--Function ends\n",
        "\n",
        "\n",
        "students = {\"Ali\": 85, \"Sara\": 92, \"Hassan\": 78, \"Iqbal\":95}\n",
        "print(top_student(students))"
      ],
      "metadata": {
        "colab": {
          "base_uri": "https://localhost:8080/"
        },
        "id": "ewcpGIgLRm1-",
        "outputId": "f06e02fa-f909-46d2-8803-91266ecf9095"
      },
      "execution_count": 14,
      "outputs": [
        {
          "output_type": "stream",
          "name": "stdout",
          "text": [
            "Iqbal\n"
          ]
        }
      ]
    },
    {
      "cell_type": "markdown",
      "source": [
        "# **Problem 14**"
      ],
      "metadata": {
        "id": "RBDxmorVVZDS"
      }
    },
    {
      "cell_type": "code",
      "source": [
        "def function(list1, function):\n",
        "    return list(map(function, list1))\n",
        "\n",
        "\n",
        "numbers = [1, 2, 3, 4]\n",
        "squared_list = function(numbers, lambda x: x ** 2)\n",
        "print(squared_list)"
      ],
      "metadata": {
        "id": "u4kEVmqIVkv4",
        "colab": {
          "base_uri": "https://localhost:8080/"
        },
        "outputId": "37399d7c-9ae4-46de-b418-6ffd9d561164"
      },
      "execution_count": 15,
      "outputs": [
        {
          "output_type": "stream",
          "name": "stdout",
          "text": [
            "[1, 4, 9, 16]\n"
          ]
        }
      ]
    },
    {
      "cell_type": "markdown",
      "source": [
        "# **Problem 15**"
      ],
      "metadata": {
        "id": "iJQdU0zYVl0x"
      }
    },
    {
      "cell_type": "code",
      "source": [
        "def sumproduct(*args, operation='sum'):\n",
        "    if operation == 'multiply':\n",
        "        result = 1\n",
        "        for num in args:\n",
        "            result *= num\n",
        "        return result\n",
        "    else:\n",
        "        return sum(args)\n",
        "\n",
        "print(sumproduct(1, 2, 3, 4))\n",
        "print(sumproduct(1, 2, 3, 4, operation='multiply'))"
      ],
      "metadata": {
        "id": "MifTgB2bVoi1",
        "colab": {
          "base_uri": "https://localhost:8080/"
        },
        "outputId": "0e672798-6e87-4445-acbd-5a4c00893f28"
      },
      "execution_count": 16,
      "outputs": [
        {
          "output_type": "stream",
          "name": "stdout",
          "text": [
            "10\n",
            "24\n"
          ]
        }
      ]
    }
  ]
}